{
  "nbformat": 4,
  "nbformat_minor": 0,
  "metadata": {
    "kernelspec": {
      "display_name": "Python 3",
      "language": "python",
      "name": "python3"
    },
    "toc": {
      "base_numbering": 1,
      "nav_menu": {},
      "number_sections": true,
      "sideBar": true,
      "skip_h1_title": false,
      "title_cell": "Table of Contents",
      "title_sidebar": "Contents",
      "toc_cell": false,
      "toc_position": {},
      "toc_section_display": true,
      "toc_window_display": true
    },
    "varInspector": {
      "cols": {
        "lenName": 16,
        "lenType": 16,
        "lenVar": 40
      },
      "kernels_config": {
        "python": {
          "delete_cmd_postfix": "",
          "delete_cmd_prefix": "del ",
          "library": "var_list.py",
          "varRefreshCmd": "print(var_dic_list())"
        },
        "r": {
          "delete_cmd_postfix": ") ",
          "delete_cmd_prefix": "rm(",
          "library": "var_list.r",
          "varRefreshCmd": "cat(var_dic_list()) "
        }
      },
      "types_to_exclude": [
        "module",
        "function",
        "builtin_function_or_method",
        "instance",
        "_Feature"
      ],
      "window_display": false
    },
    "colab": {
      "name": "Nuovo Song clustering.ipynb",
      "provenance": [],
      "collapsed_sections": [
        "N_B0Ya_y1jtD"
      ],
      "toc_visible": true
    }
  },
  "cells": [
    {
      "cell_type": "markdown",
      "metadata": {
        "id": "MsoqQTPkbxrQ",
        "colab_type": "text"
      },
      "source": [
        "# **SONG CLUSTERING**\n",
        "\n",
        "Maria Giustiniano \\\n",
        "Simone Quadrelli \n",
        "\n",
        "![](https://drive.google.com/uc?id=1M3QI2x97MWZ2MfJhkk29yIq68LBmeXuB)\n",
        "\n",
        "\n",
        "\n",
        "Algorithms for massive datasets \\\\\n",
        "Academic year 2019/2020\n"
      ]
    },
    {
      "cell_type": "markdown",
      "metadata": {
        "id": "zKAl0rbmcIob",
        "colab_type": "text"
      },
      "source": [
        "##Set up Spark\n"
      ]
    },
    {
      "cell_type": "code",
      "metadata": {
        "id": "II_ls4sxy_Xe",
        "colab_type": "code",
        "colab": {}
      },
      "source": [
        "sudo apt update\n",
        "gcloud compute ssh --zone us-central1-a instance2 --ssh-flag=\"-L 8888:localhost:8888\"\n",
        "sudo apt install python3-pip python3-dev\n",
        "sudo -H pip3 install --upgrade pip\n",
        "pip install jupyter\n",
        "https://www.digitalocean.com/community/tutorials/how-to-set-up-jupyter-notebook-with-python-3-on-ubuntu-18-04"
      ],
      "execution_count": 0,
      "outputs": []
    },
    {
      "cell_type": "code",
      "metadata": {
        "id": "Ei_Ny6_0b098",
        "colab_type": "code",
        "colab": {}
      },
      "source": [
        "!apt-get install openjdk-8-jdk-headless -qq > /dev/null\n",
        "!wget -q http://www-eu.apache.org/dist/spark/spark-2.4.5/spark-2.4.5-bin-hadoop2.7.tgz\n",
        "!tar xf spark-2.4.5-bin-hadoop2.7.tgz\n",
        "!pip install -q findspark\n",
        "import os\n",
        "os.environ['PYSPARK_SUBMIT_ARGS'] = '--packages com.databricks:spark-redshift_2.10:2.0.1 pyspark-shell'\n",
        "os.environ[\"JAVA_HOME\"] = \"/usr/lib/jvm/java-8-openjdk-amd64\"\n",
        "os.environ[\"SPARK_HOME\"] = \"/content/spark-2.4.5-bin-hadoop2.7\"\n",
        "\n",
        "\n",
        "import findspark\n",
        "findspark.init(\"spark-2.4.5-bin-hadoop2.7\")# SPARK_HOME\n",
        "from pyspark.sql import SparkSession\n",
        "spark = SparkSession.builder.master(\"local[*]\").getOrCreate()\n",
        "\n",
        "sc = spark.sparkContext\n",
        "from pyspark import SparkContext\n",
        "from pyspark.sql import SQLContext\n",
        "sqlContext = SQLContext(sc)"
      ],
      "execution_count": 0,
      "outputs": []
    },
    {
      "cell_type": "markdown",
      "metadata": {
        "id": "nd56VRvpbxrV",
        "colab_type": "text"
      },
      "source": [
        "## Install libraries"
      ]
    },
    {
      "cell_type": "code",
      "metadata": {
        "ExecuteTime": {
          "end_time": "2020-05-15T09:30:08.923504Z",
          "start_time": "2020-05-15T09:30:08.919516Z"
        },
        "id": "x0THj543bxrX",
        "colab_type": "code",
        "colab": {}
      },
      "source": [
        "!pip install librosa\n",
        "!pip install kaggle --upgrade\n",
        "#!pip install ffmpeg"
      ],
      "execution_count": 0,
      "outputs": []
    },
    {
      "cell_type": "markdown",
      "metadata": {
        "id": "1kquO-eeO1tO",
        "colab_type": "text"
      },
      "source": [
        "# Download data\n",
        "\n",
        "\n",
        "\n"
      ]
    },
    {
      "cell_type": "code",
      "metadata": {
        "id": "vN-Pl9QTyDOK",
        "colab_type": "code",
        "colab": {}
      },
      "source": [
        "!pip install -q kaggle\n",
        "!mkdir -p ~/.kaggle\n",
        "!cp kaggle.json ~/.kaggle/\n",
        "!ls ~/.kaggle\n",
        "! chmod 600 ./kaggle.json"
      ],
      "execution_count": 0,
      "outputs": []
    },
    {
      "cell_type": "code",
      "metadata": {
        "id": "Sx9QHr2KbYhw",
        "colab_type": "code",
        "colab": {}
      },
      "source": [
        "!kaggle datasets download -d andradaolteanu/gtzan-dataset-music-genre-classification"
      ],
      "execution_count": 0,
      "outputs": []
    },
    {
      "cell_type": "markdown",
      "metadata": {
        "id": "4bHlGe6ILUWo",
        "colab_type": "text"
      },
      "source": [
        "## Unzip data\n"
      ]
    },
    {
      "cell_type": "code",
      "metadata": {
        "id": "ZF3ce4B_cHan",
        "colab_type": "code",
        "colab": {}
      },
      "source": [
        "!unzip gtzan-dataset-music-genre-classification.zip"
      ],
      "execution_count": 0,
      "outputs": []
    },
    {
      "cell_type": "markdown",
      "metadata": {
        "id": "KIZ79i31LGSM",
        "colab_type": "text"
      },
      "source": [
        "## Remove 54th jazz song since the file is corrupted"
      ]
    },
    {
      "cell_type": "code",
      "metadata": {
        "id": "par5QBaVrpgh",
        "colab_type": "code",
        "outputId": "12ecd988-b89d-4602-c052-192493789f9c",
        "colab": {
          "base_uri": "https://localhost:8080/",
          "height": 34
        }
      },
      "source": [
        "rm Data/genres_original/jazz/jazz.00054.wav"
      ],
      "execution_count": 0,
      "outputs": [
        {
          "output_type": "stream",
          "text": [
            "rm: cannot remove 'Data/genres_original/jazz/jazz.00054.wav': No such file or directory\n"
          ],
          "name": "stdout"
        }
      ]
    },
    {
      "cell_type": "markdown",
      "metadata": {
        "id": "s52WBf_Nbxrd",
        "colab_type": "text"
      },
      "source": [
        "## Feature extraction"
      ]
    },
    {
      "cell_type": "code",
      "metadata": {
        "ExecuteTime": {
          "end_time": "2020-05-20T09:50:24.835394Z",
          "start_time": "2020-05-20T09:50:23.310584Z"
        },
        "id": "HN-RCSywbxre",
        "colab_type": "code",
        "colab": {}
      },
      "source": [
        "import matplotlib.pyplot as plt\n",
        "import pandas as pd\n",
        "import numpy as np\n",
        "import librosa\n",
        "import statistics \n",
        "import plotly.express as px\n",
        "from pathlib import Path\n",
        "from pyspark.ml.linalg import Vectors\n",
        "from pyspark.ml.feature import VectorAssembler\n",
        "from pyspark.ml.clustering import KMeans\n",
        "from pyspark.ml.evaluation import ClusteringEvaluator\n",
        "from pyspark.ml.clustering import BisectingKMeans\n",
        "from pyspark.ml.stat import Correlation\n",
        "from pyspark.ml.feature import PCA"
      ],
      "execution_count": 0,
      "outputs": []
    },
    {
      "cell_type": "code",
      "metadata": {
        "ExecuteTime": {
          "end_time": "2020-05-20T09:50:27.464696Z",
          "start_time": "2020-05-20T09:50:27.450739Z"
        },
        "id": "KjruUGIkbxrl",
        "colab_type": "code",
        "colab": {}
      },
      "source": [
        "paths = [str(path) for path in Path('Data/genres_original').rglob('*.wav')]   "
      ],
      "execution_count": 0,
      "outputs": []
    },
    {
      "cell_type": "code",
      "metadata": {
        "id": "3YqfFvFmmgfE",
        "colab_type": "code",
        "colab": {}
      },
      "source": [
        "FEATURES_COL = ['spectral_flatness_mean', 'spectral_flatness_var',\n",
        "       'chroma_stft_mean', 'chroma_stft_var', 'spectral_centroid_mean',\n",
        "       'spectral_centroid_var', 'spectral_bandwidth_mean',\n",
        "       'spectral_bandwidth_var', 'rolloff_mean', 'rolloff_var',\n",
        "       'zero_crossing_rate_mean', 'zero_crossing_rate_var',\n",
        "       'root_mean_square_mean', 'root_mean_square_var',\n",
        "       'mfcc1_mean', 'mfcc2_mean', 'mfcc3_mean', 'mfcc4_mean',\n",
        "       'mfcc5_mean', 'mfcc6_mean', 'mfcc7_mean', 'mfcc8_mean',\n",
        "       'mfcc9_mean', 'mfcc10_mean', 'mfcc11_mean', 'mfcc12_mean',\n",
        "       'mfcc13_mean', 'mfcc14_mean', 'mfcc15_mean', 'mfcc16_mean',\n",
        "       'mfcc17_mean', 'mfcc18_mean', 'mfcc19_mean', 'mfcc20_mean',\n",
        "       'mfcc1_var', 'mfcc2_var', 'mfcc3_var', 'mfcc4_var', 'mfcc5_var',\n",
        "       'mfcc6_var', 'mfcc7_var', 'mfcc8_var', 'mfcc9_var', 'mfcc10_var',\n",
        "       'mfcc11_var', 'mfcc12_var', 'mfcc13_var', 'mfcc14_var',\n",
        "       'mfcc15_var', 'mfcc16_var', 'mfcc17_var', 'mfcc18_varn',\n",
        "       'mfcc19_var', 'mfcc20_var']"
      ],
      "execution_count": 0,
      "outputs": []
    },
    {
      "cell_type": "markdown",
      "metadata": {
        "id": "N_B0Ya_y1jtD",
        "colab_type": "text"
      },
      "source": [
        "#Da non utilizzare\n",
        "\n"
      ]
    },
    {
      "cell_type": "code",
      "metadata": {
        "ExecuteTime": {
          "end_time": "2020-05-20T09:51:02.402602Z",
          "start_time": "2020-05-20T09:51:02.394732Z"
        },
        "id": "nnscggBabxrv",
        "colab_type": "code",
        "outputId": "06300fbc-fd34-4bfe-892f-507fe23100eb",
        "colab": {
          "base_uri": "https://localhost:8080/"
        }
      },
      "source": [
        "'''\n",
        "def feature_extraction(path):\n",
        "    x, sr = librosa.load(path)\n",
        "    flat = librosa.feature.spectral_flatness(x)\n",
        "    chroma_stft = librosa.feature.chroma_stft(x,sr)\n",
        "    spec_cent = librosa.feature.spectral_centroid(x,sr)\n",
        "    spec_bw = librosa.feature.spectral_bandwidth(x,sr)\n",
        "    rolloff = librosa.feature.spectral_rolloff(x,sr)\n",
        "    zcr = librosa.feature.zero_crossing_rate(x)\n",
        "    mfcc = librosa.feature.mfcc(x,sr)\n",
        "    S, phase = librosa.magphase(librosa.stft(x))\n",
        "    rms = librosa.feature.rms(S) \n",
        "    y, sr = librosa.load(path)\n",
        "    onset_env = librosa.onset.onset_strength(x, sr)\n",
        "    tempo = librosa.beat.tempo(onset_env,sr)\n",
        "    pos = [m.start() for m in re.finditer('/', path)]\n",
        "    return (Vectors.dense([np.mean(flat).tolist(),np.var(flat).tolist(),\n",
        "                            np.mean(chroma_stft).tolist(),np.var(chroma_stft).tolist(),\n",
        "                            np.mean(spec_cent).tolist(), np.var(spec_cent).tolist(),\n",
        "                            np.mean(spec_bw).tolist(),np.var(spec_bw).tolist(),\n",
        "                            np.mean(rolloff).tolist(),np.var(rolloff).tolist(),\n",
        "                            np.mean(zcr).tolist(),np.var(zcr).tolist(),\n",
        "                            np.mean(rms).tolist(),np.var(rms).tolist(),\n",
        "                            tempo[0].item() ] + mfcc.mean(axis = 1).tolist() + mfcc.var(axis = 1).tolist()))\n",
        "'''"
      ],
      "execution_count": 0,
      "outputs": [
        {
          "output_type": "execute_result",
          "data": {
            "text/plain": [
              "\"\\ndef feature_extraction(path):\\n    x, sr = librosa.load(path)\\n    flat = librosa.feature.spectral_flatness(x)\\n    chroma_stft = librosa.feature.chroma_stft(x,sr)\\n    spec_cent = librosa.feature.spectral_centroid(x,sr)\\n    spec_bw = librosa.feature.spectral_bandwidth(x,sr)\\n    rolloff = librosa.feature.spectral_rolloff(x,sr)\\n    zcr = librosa.feature.zero_crossing_rate(x)\\n    mfcc = librosa.feature.mfcc(x,sr)\\n    S, phase = librosa.magphase(librosa.stft(x))\\n    rms = librosa.feature.rms(S) \\n    y, sr = librosa.load(path)\\n    onset_env = librosa.onset.onset_strength(x, sr)\\n    tempo = librosa.beat.tempo(onset_env,sr)\\n    pos = [m.start() for m in re.finditer('/', path)]\\n    return (Vectors.dense([np.mean(flat).tolist(),np.var(flat).tolist(),\\n                            np.mean(chroma_stft).tolist(),np.var(chroma_stft).tolist(),\\n                            np.mean(spec_cent).tolist(), np.var(spec_cent).tolist(),\\n                            np.mean(spec_bw).tolist(),np.var(spec_bw).tolist(),\\n                            np.mean(rolloff).tolist(),np.var(rolloff).tolist(),\\n                            np.mean(zcr).tolist(),np.var(zcr).tolist(),\\n                            np.mean(rms).tolist(),np.var(rms).tolist(),\\n                            tempo[0].item() ] + mfcc.mean(axis = 1).tolist() + mfcc.var(axis = 1).tolist()))\\n\""
            ]
          },
          "metadata": {
            "tags": []
          },
          "execution_count": 6
        }
      ]
    },
    {
      "cell_type": "code",
      "metadata": {
        "id": "zOkJow6vGtZ7",
        "colab_type": "code",
        "outputId": "cee69d7c-a49e-486a-d7b2-e963eb8d71e6",
        "colab": {
          "base_uri": "https://localhost:8080/"
        }
      },
      "source": [
        "'''\n",
        "def test_feature_extraction(path):\n",
        "    x, sr = librosa.load(path)\n",
        "    flat = librosa.feature.spectral_flatness(x)\n",
        "    chroma_stft = librosa.feature.chroma_stft(x,sr)\n",
        "    spec_cent = librosa.feature.spectral_centroid(x,sr)\n",
        "    spec_bw = librosa.feature.spectral_bandwidth(x,sr)\n",
        "    rolloff = librosa.feature.spectral_rolloff(x,sr)\n",
        "    zcr = librosa.feature.zero_crossing_rate(x)\n",
        "    mfcc = librosa.feature.mfcc(x,sr)\n",
        "    S, phase = librosa.magphase(librosa.stft(x))\n",
        "    rms = librosa.feature.rms(S)\n",
        "    y, sr = librosa.load(path)\n",
        "    onset_env = librosa.onset.onset_strength(x, sr)\n",
        "    tempo = librosa.beat.tempo(onset_env,sr)\n",
        "    pos = [m.start() for m in re.finditer('/', path)]\n",
        "    return [np.mean(flat).tolist(),np.var(flat).tolist(),\n",
        "                            np.mean(chroma_stft).tolist(),np.var(chroma_stft).tolist(),\n",
        "                            np.mean(spec_cent).tolist(), np.var(spec_cent).tolist(),\n",
        "                            np.mean(spec_bw).tolist(),np.var(spec_bw).tolist(),\n",
        "                            np.mean(rolloff).tolist(),np.var(rolloff).tolist(),\n",
        "                            np.mean(zcr).tolist(),np.var(zcr).tolist(),\n",
        "                            np.mean(rms).tolist(),np.var(rms).tolist()\n",
        "                            ] + mfcc.mean(axis = 1).tolist() + mfcc.var(axis = 1).tolist()\n",
        "'''"
      ],
      "execution_count": 0,
      "outputs": [
        {
          "output_type": "execute_result",
          "data": {
            "text/plain": [
              "\"\\ndef test_feature_extraction(path):\\n    x, sr = librosa.load(path)\\n    flat = librosa.feature.spectral_flatness(x)\\n    chroma_stft = librosa.feature.chroma_stft(x,sr)\\n    spec_cent = librosa.feature.spectral_centroid(x,sr)\\n    spec_bw = librosa.feature.spectral_bandwidth(x,sr)\\n    rolloff = librosa.feature.spectral_rolloff(x,sr)\\n    zcr = librosa.feature.zero_crossing_rate(x)\\n    mfcc = librosa.feature.mfcc(x,sr)\\n    S, phase = librosa.magphase(librosa.stft(x))\\n    rms = librosa.feature.rms(S)\\n    y, sr = librosa.load(path)\\n    onset_env = librosa.onset.onset_strength(x, sr)\\n    tempo = librosa.beat.tempo(onset_env,sr)\\n    pos = [m.start() for m in re.finditer('/', path)]\\n    return [np.mean(flat).tolist(),np.var(flat).tolist(),\\n                            np.mean(chroma_stft).tolist(),np.var(chroma_stft).tolist(),\\n                            np.mean(spec_cent).tolist(), np.var(spec_cent).tolist(),\\n                            np.mean(spec_bw).tolist(),np.var(spec_bw).tolist(),\\n                            np.mean(rolloff).tolist(),np.var(rolloff).tolist(),\\n                            np.mean(zcr).tolist(),np.var(zcr).tolist(),\\n                            np.mean(rms).tolist(),np.var(rms).tolist()\\n                            ] + mfcc.mean(axis = 1).tolist() + mfcc.var(axis = 1).tolist()\\n\""
            ]
          },
          "metadata": {
            "tags": []
          },
          "execution_count": 7
        }
      ]
    },
    {
      "cell_type": "code",
      "metadata": {
        "id": "ZKu9nblqVJhj",
        "colab_type": "code",
        "colab": {}
      },
      "source": [
        "#features = spdf_paths.rdd.map(lambda path: test_feature_extraction(path[0]))\n",
        "#df = features.toDF(FEATURES_COL)"
      ],
      "execution_count": 0,
      "outputs": []
    },
    {
      "cell_type": "markdown",
      "metadata": {
        "id": "-NzsWLRC1458",
        "colab_type": "text"
      },
      "source": [
        "# Read dataset"
      ]
    },
    {
      "cell_type": "code",
      "metadata": {
        "id": "Tgoc5j1WpekQ",
        "colab_type": "code",
        "colab": {}
      },
      "source": [
        "pdf = pd.read_csv('features.csv')\n",
        "del pdf['tempo']\n",
        "pdf['class']=pdf['genres'].map({'blues': 0, 'classical': 1,'country': 2, 'disco': 3,'hiphop': 4, 'jazz': 5,'metal': 0,\n",
        "                 'pop': 3,'reggae': 7, 'rock': 8})\n",
        "del pdf['genres']\n",
        "pdf.to_csv('features1.csv', index=False)"
      ],
      "execution_count": 0,
      "outputs": []
    },
    {
      "cell_type": "code",
      "metadata": {
        "id": "-g-R9ok4PA0B",
        "colab_type": "code",
        "outputId": "54b57b85-332d-4b2e-fd78-50e506b5ce19",
        "colab": {
          "base_uri": "https://localhost:8080/",
          "height": 154
        }
      },
      "source": [
        "df = sqlContext.read.csv('features1.csv', header=True) # requires spark 2.0\n",
        "df.show(1) "
      ],
      "execution_count": 6,
      "outputs": [
        {
          "output_type": "stream",
          "text": [
            "+----------------------+---------------------+-------------------+-------------------+----------------------+---------------------+-----------------------+----------------------+------------------+----------------+-----------------------+----------------------+---------------------+--------------------+-------------------+------------------+-------------------+-----------------+------------------+------------------+-------------------+-----------------+-------------------+------------------+------------------+-----------------+------------------+-----------------+------------------+------------------+-------------------+-------------------+-------------------+-----------------+----------------+----------------+------------------+------------------+------------------+-----------------+-----------------+-----------------+----------------+-----------------+----------------+-----------------+-----------------+-----------------+------------------+----------------+------------------+-----------------+-----------------+-----------------+-----+\n",
            "|spectral_flatness_mean|spectral_flatness_var|   chroma_stft_mean|    chroma_stft_var|spectral_centroid_mean|spectral_centroid_var|spectral_bandwidth_mean|spectral_bandwidth_var|      rolloff_mean|     rolloff_var|zero_crossing_rate_mean|zero_crossing_rate_var|root_mean_square_mean|root_mean_square_var|         mfcc1_mean|        mfcc2_mean|         mfcc3_mean|       mfcc4_mean|        mfcc5_mean|        mfcc6_mean|         mfcc7_mean|       mfcc8_mean|         mfcc9_mean|       mfcc10_mean|       mfcc11_mean|      mfcc12_mean|       mfcc13_mean|      mfcc14_mean|       mfcc15_mean|       mfcc16_mean|        mfcc17_mean|        mfcc18_mean|        mfcc19_mean|      mfcc20_mean|       mfcc1_var|       mfcc2_var|         mfcc3_var|         mfcc4_var|         mfcc5_var|        mfcc6_var|        mfcc7_var|        mfcc8_var|       mfcc9_var|       mfcc10_var|      mfcc11_var|       mfcc12_var|       mfcc13_var|       mfcc14_var|        mfcc15_var|      mfcc16_var|        mfcc17_var|      mfcc18_varn|       mfcc19_var|       mfcc20_var|class|\n",
            "+----------------------+---------------------+-------------------+-------------------+----------------------+---------------------+-----------------------+----------------------+------------------+----------------+-----------------------+----------------------+---------------------+--------------------+-------------------+------------------+-------------------+-----------------+------------------+------------------+-------------------+-----------------+-------------------+------------------+------------------+-----------------+------------------+-----------------+------------------+------------------+-------------------+-------------------+-------------------+-----------------+----------------+----------------+------------------+------------------+------------------+-----------------+-----------------+-----------------+----------------+-----------------+----------------+-----------------+-----------------+-----------------+------------------+----------------+------------------+-----------------+-----------------+-----------------+-----+\n",
            "|  0.004498349502682686| 3.038814611500128...|0.35008811950683594|0.08875656872987747|    1784.1658495387549|   129774.06452515078|      2002.449060117696|     85882.76131549838|3805.8396058403423|901505.425532842|    0.08304482066898686|  0.000766945654594...|   1.2966036796569824|0.000188507183338...|-113.57064819335938|121.57179260253906|-19.168142318725586|42.36642074584961|-6.364664077758789|18.623498916625977|-13.704889297485352|15.34315013885498|-12.274109840393065|10.976572036743164|-8.326573371887207|8.803791999816895|-3.672300100326538|5.747994899749756|-5.162881851196289|0.7527398467063904|-1.6902146339416504|-0.4089789688587189|-2.3035225868225098|1.221290111541748|2564.20751953125|295.913818359375|235.57443237304688|151.10690307617188|167.93479919433594|89.18083953857422|67.66049194335939|68.93257904052734|82.2042007446289|63.38631057739258|61.7730941772461|51.24412536621094|41.21741485595703|40.55447769165039|49.775428771972656|52.4209098815918|36.524070739746094|41.59710311889648|55.06292343139648|46.93603134155274|    0|\n",
            "+----------------------+---------------------+-------------------+-------------------+----------------------+---------------------+-----------------------+----------------------+------------------+----------------+-----------------------+----------------------+---------------------+--------------------+-------------------+------------------+-------------------+-----------------+------------------+------------------+-------------------+-----------------+-------------------+------------------+------------------+-----------------+------------------+-----------------+------------------+------------------+-------------------+-------------------+-------------------+-----------------+----------------+----------------+------------------+------------------+------------------+-----------------+-----------------+-----------------+----------------+-----------------+----------------+-----------------+-----------------+-----------------+------------------+----------------+------------------+-----------------+-----------------+-----------------+-----+\n",
            "only showing top 1 row\n",
            "\n"
          ],
          "name": "stdout"
        }
      ]
    },
    {
      "cell_type": "code",
      "metadata": {
        "id": "oiBQMIsmQD5i",
        "colab_type": "code",
        "colab": {}
      },
      "source": [
        "df_feat = df.select(*(df[c].cast(\"float\").alias(c) for c in df.columns))\n",
        "for col in df.columns:\n",
        "    df = df.withColumn(col,df[col].cast('float'))"
      ],
      "execution_count": 0,
      "outputs": []
    },
    {
      "cell_type": "markdown",
      "metadata": {
        "id": "4VjUZ9j3LcpK",
        "colab_type": "text"
      },
      "source": [
        "## Feature vector construction\n",
        "\n",
        "Build a unique feature containing the vector of features"
      ]
    },
    {
      "cell_type": "code",
      "metadata": {
        "id": "nqV275gIJPoB",
        "colab_type": "code",
        "colab": {}
      },
      "source": [
        "vecAssembler = VectorAssembler(inputCols=FEATURES_COL, outputCol=\"RawFeatures\")\n",
        "df_kmeans = vecAssembler.transform(df).select('RawFeatures','class')"
      ],
      "execution_count": 0,
      "outputs": []
    },
    {
      "cell_type": "markdown",
      "metadata": {
        "id": "8hJ7ocerLquR",
        "colab_type": "text"
      },
      "source": [
        "# Preprocessing features"
      ]
    },
    {
      "cell_type": "markdown",
      "metadata": {
        "id": "BFHLdhSpLr00",
        "colab_type": "text"
      },
      "source": [
        "## Correlations\n"
      ]
    },
    {
      "cell_type": "code",
      "metadata": {
        "id": "SctpMtY02acJ",
        "colab_type": "code",
        "colab": {}
      },
      "source": [
        "correlation_matrix = Correlation.corr(df_kmeans, \"RawFeatures\", \"spearman\")"
      ],
      "execution_count": 0,
      "outputs": []
    },
    {
      "cell_type": "code",
      "metadata": {
        "id": "bCYMNXa0Wkra",
        "colab_type": "code",
        "colab": {}
      },
      "source": [
        "df = correlation_matrix.toPandas()\n",
        "df = df.to_numpy()\n",
        "corr = df[0][0].toArray()\n",
        "df = pd.DataFrame(corr)"
      ],
      "execution_count": 0,
      "outputs": []
    },
    {
      "cell_type": "code",
      "metadata": {
        "id": "INH430uWWjTO",
        "colab_type": "code",
        "colab": {}
      },
      "source": [
        "import plotly.graph_objects as go\n",
        "fig = go.Figure(data=go.Heatmap(\n",
        "                   z=df,\n",
        "                   x=FEATURES_COL,\n",
        "                   y=FEATURES_COL,\n",
        "                   hoverongaps = True))\n",
        "fig.update_layout(\n",
        "    autosize=False,\n",
        "    width=1000,\n",
        "    height=680)\n",
        "fig.show()"
      ],
      "execution_count": 0,
      "outputs": []
    },
    {
      "cell_type": "code",
      "metadata": {
        "id": "7oh7jY3Kkf1V",
        "colab_type": "code",
        "colab": {}
      },
      "source": [
        "columns = np.full((df.shape[0],), True, dtype=bool)\n",
        "for i in range(df.shape[0]):\n",
        "    for j in range(i+1, df.shape[0]):\n",
        "        if df.iloc[i,j] >= 0.5:\n",
        "            if columns[j]:\n",
        "                columns[j] = False\n",
        "selected_columns = df.columns[columns]"
      ],
      "execution_count": 0,
      "outputs": []
    },
    {
      "cell_type": "code",
      "metadata": {
        "id": "owuJ8u8xskaz",
        "colab_type": "code",
        "colab": {}
      },
      "source": [
        "selected = []\n",
        "for i in selected_columns:\n",
        "  selected.append(FEATURES_COL[i])\n",
        "selected"
      ],
      "execution_count": 0,
      "outputs": []
    },
    {
      "cell_type": "code",
      "metadata": {
        "id": "BYyObGQgXFdo",
        "colab_type": "code",
        "colab": {}
      },
      "source": [
        "import plotly.graph_objects as go\n",
        "fig = go.Figure(data=go.Heatmap(\n",
        "                   z=df.iloc[columns,columns],\n",
        "                   x=selected,\n",
        "                   y=selected,\n",
        "                   hoverongaps = True))\n",
        "fig.show()"
      ],
      "execution_count": 0,
      "outputs": []
    },
    {
      "cell_type": "markdown",
      "metadata": {
        "id": "GdcNtzMyLw6C",
        "colab_type": "text"
      },
      "source": [
        "Build a column containing the vector of selected features"
      ]
    },
    {
      "cell_type": "code",
      "metadata": {
        "id": "NL9F8MdJmPUs",
        "colab_type": "code",
        "colab": {}
      },
      "source": [
        "from pyspark.ml.feature import VectorSlicer\n",
        "slicer = VectorSlicer(inputCol=\"RawFeatures\", outputCol=\"not_corr_features\", indices=selected_columns.tolist())\n",
        "output = slicer.transform(RawFeatures)"
      ],
      "execution_count": 0,
      "outputs": []
    },
    {
      "cell_type": "markdown",
      "metadata": {
        "id": "6SwwZHkobA_3",
        "colab_type": "text"
      },
      "source": [
        "## PCA\n",
        "\n",
        "Plot the explained variance and select the optimal number of components\n"
      ]
    },
    {
      "cell_type": "code",
      "metadata": {
        "id": "U1uiiwEPhmn_",
        "colab_type": "code",
        "outputId": "d92756c1-c5f0-4544-e4c0-8d8bca28a3ee",
        "colab": {
          "base_uri": "https://localhost:8080/",
          "height": 34
        }
      },
      "source": [
        "pca = PCA(k=4, inputCol=\"not_corr_features\", outputCol=\"features\")\n",
        "model_pca = pca.fit(output)\n",
        "transformed = model_pca.transform(output).select(\"features\")\n",
        "model_pca.explainedVariance"
      ],
      "execution_count": 0,
      "outputs": [
        {
          "output_type": "execute_result",
          "data": {
            "text/plain": [
              "DenseVector([0.7876, 0.212, 0.0002, 0.0002])"
            ]
          },
          "metadata": {
            "tags": []
          },
          "execution_count": 68
        }
      ]
    },
    {
      "cell_type": "code",
      "metadata": {
        "id": "-ixtUIUbhzFO",
        "colab_type": "code",
        "outputId": "debbc3dc-545e-4175-98db-af75f62f6edc",
        "colab": {
          "base_uri": "https://localhost:8080/",
          "height": 279
        }
      },
      "source": [
        "var = model_pca.explainedVariance.toArray()\n",
        "plt.plot(np.cumsum(var))\n",
        "plt.xticks(range(0,len(var)),[1,2,3,4])\n",
        "plt.xlabel('Components')\n",
        "plt.ylabel('Cumulative variance')\n",
        "plt.savefig('pca.png')"
      ],
      "execution_count": 0,
      "outputs": [
        {
          "output_type": "display_data",
          "data": {
            "image/png": "[encoded data removed]",
            "text/plain": [
              "<Figure size 432x288 with 1 Axes>"
            ]
          },
          "metadata": {
            "tags": [],
            "needs_background": "light"
          }
        }
      ]
    },
    {
      "cell_type": "markdown",
      "metadata": {
        "id": "hfpdNgiJMFRA",
        "colab_type": "text"
      },
      "source": [
        "Run pca with the optimal number of components"
      ]
    },
    {
      "cell_type": "code",
      "metadata": {
        "id": "SY51VqhIXU47",
        "colab_type": "code",
        "colab": {}
      },
      "source": [
        "pca = PCA(k=2, inputCol=\"not_corr_features\", outputCol=\"features\")\n",
        "model_pca = pca.fit(output)\n",
        "transformed = model_pca.transform(output).select(\"features\")"
      ],
      "execution_count": 0,
      "outputs": []
    },
    {
      "cell_type": "markdown",
      "metadata": {
        "id": "KGhGayvtPhwh",
        "colab_type": "text"
      },
      "source": [
        "# Clustering"
      ]
    },
    {
      "cell_type": "markdown",
      "metadata": {
        "id": "DGQIE_xTMNCv",
        "colab_type": "text"
      },
      "source": [
        "## K-means"
      ]
    },
    {
      "cell_type": "code",
      "metadata": {
        "id": "9xun1k5aR2fn",
        "colab_type": "code",
        "colab": {}
      },
      "source": [
        "ks = list(range(2,17))"
      ],
      "execution_count": 0,
      "outputs": []
    },
    {
      "cell_type": "code",
      "metadata": {
        "id": "kasXjbwg8vIs",
        "colab_type": "code",
        "colab": {}
      },
      "source": [
        "silhouettes = []\n",
        "costs_kmeans = []\n",
        "for k in ks:\n",
        "  kmeans = KMeans().setK(k).setSeed(1).setFeaturesCol(\"features\")\n",
        "  kmeansModel = kmeans.fit(transformed)\n",
        "  predictions = kmeansModel.transform(transformed)\n",
        "  evaluator = ClusteringEvaluator()\n",
        "  silhouette = evaluator.evaluate(predictions)\n",
        "  silhouettes.append(silhouette)\n",
        "  costs_kmeans.append(kmeansModel.computeCost(transformed))"
      ],
      "execution_count": 0,
      "outputs": []
    },
    {
      "cell_type": "code",
      "metadata": {
        "id": "jWFxclFW8gbx",
        "colab_type": "code",
        "outputId": "96e35049-11e9-4689-a689-afef2e69ee39",
        "colab": {
          "base_uri": "https://localhost:8080/",
          "height": 290
        }
      },
      "source": [
        "plt.plot(range(2,len(ks)+2),costs_kmeans)\n",
        "plt.xlabel('k')\n",
        "plt.ylabel('cost')\n",
        "plt.savefig('cost_k_means.png')"
      ],
      "execution_count": 0,
      "outputs": [
        {
          "output_type": "display_data",
          "data": {
            "image/png": "[encoded data removed]",
            "text/plain": [
              "<Figure size 432x288 with 1 Axes>"
            ]
          },
          "metadata": {
            "tags": [],
            "needs_background": "light"
          }
        }
      ]
    },
    {
      "cell_type": "markdown",
      "metadata": {
        "id": "byzEDSufMSjD",
        "colab_type": "text"
      },
      "source": [
        "The plot suggests that 6 is the correct number of clusters to select\n"
      ]
    },
    {
      "cell_type": "code",
      "metadata": {
        "id": "qZpEW_UHvi_J",
        "colab_type": "code",
        "outputId": "40f41484-083e-4347-8fff-8ce70c4e759a",
        "colab": {
          "base_uri": "https://localhost:8080/",
          "height": 34
        }
      },
      "source": [
        "kmeans = KMeans().setK(6).setSeed(1)\n",
        "model_kmeans= kmeans.fit(transformed)   \n",
        "results = model_kmeans.transform(transformed)  \n",
        "centers = model_kmeans.clusterCenters()\n",
        "pandasdf = results.toPandas()\n",
        "pandasdf['class']=pdf['class']\n",
        "evaluator = ClusteringEvaluator()\n",
        "silhouette = evaluator.evaluate(results)\n",
        "print(\"Silhouette with squared euclidean distance = \" + str(silhouette))"
      ],
      "execution_count": 0,
      "outputs": [
        {
          "output_type": "stream",
          "text": [
            "Silhouette with squared euclidean distance = 0.5710812578390112\n"
          ],
          "name": "stdout"
        }
      ]
    },
    {
      "cell_type": "code",
      "metadata": {
        "id": "7poKMfEgwFwk",
        "colab_type": "code",
        "colab": {}
      },
      "source": [
        "pc1 = []\n",
        "pc2 = []\n",
        "for idx, row in pandasdf.iterrows():\n",
        "    pc1.append(row[0][0])\n",
        "    pc2.append(row[0][1])\n",
        "pandasdf['pca1'] = pc1 \n",
        "pandasdf['pca2'] = pc2\n",
        "dfcenters = pd.DataFrame(centers, columns = [\"x\",\"y\"])"
      ],
      "execution_count": 0,
      "outputs": []
    },
    {
      "cell_type": "markdown",
      "metadata": {
        "id": "MpGO7odRMuTg",
        "colab_type": "text"
      },
      "source": [
        "### K-means visualization"
      ]
    },
    {
      "cell_type": "code",
      "metadata": {
        "id": "6ALZZ6nvs5Aq",
        "colab_type": "code",
        "outputId": "8219f1ea-046c-4073-c7da-02f8a4c0c558",
        "colab": {
          "base_uri": "https://localhost:8080/",
          "height": 265
        }
      },
      "source": [
        "plt.scatter(pc1,pc2, c=pandasdf[\"prediction\"])\n",
        "plt.scatter(dfcenters[\"x\"].values,dfcenters[\"y\"].values, marker=\"x\", color = \"r\")\n",
        "plt.savefig('k_means_clusters.png')\n",
        "plt.show()"
      ],
      "execution_count": 0,
      "outputs": [
        {
          "output_type": "display_data",
          "data": {
            "image/png": "[encoded data removed]",
            "text/plain": [
              "<Figure size 432x288 with 1 Axes>"
            ]
          },
          "metadata": {
            "tags": [],
            "needs_background": "light"
          }
        }
      ]
    },
    {
      "cell_type": "code",
      "metadata": {
        "id": "SdhZxc_REH_6",
        "colab_type": "code",
        "outputId": "73f18a9d-294e-4b7a-ba26-2b2bfd974f89",
        "colab": {
          "base_uri": "https://localhost:8080/",
          "height": 265
        }
      },
      "source": [
        "plt.scatter(pc1,pc2, c=pandasdf[\"class\"])\n",
        "plt.scatter(dfcenters[\"x\"].values,dfcenters[\"y\"].values, marker=\"x\", color = \"r\")\n",
        "plt.savefig('k_means_classes.png')\n",
        "plt.show()"
      ],
      "execution_count": 0,
      "outputs": [
        {
          "output_type": "display_data",
          "data": {
            "image/png": "[encoded data removed]",
            "text/plain": [
              "<Figure size 432x288 with 1 Axes>"
            ]
          },
          "metadata": {
            "tags": [],
            "needs_background": "light"
          }
        }
      ]
    },
    {
      "cell_type": "markdown",
      "metadata": {
        "id": "8bGLpCJvMzeH",
        "colab_type": "text"
      },
      "source": [
        "It is possible to recognize three classes that emerge in the upper left and right and in the low centre"
      ]
    },
    {
      "cell_type": "markdown",
      "metadata": {
        "id": "lNyQN8lZaz6U",
        "colab_type": "text"
      },
      "source": [
        "## Bisecting k-means"
      ]
    },
    {
      "cell_type": "code",
      "metadata": {
        "id": "9guk-Kcka4B1",
        "colab_type": "code",
        "colab": {}
      },
      "source": [
        "costs = []\n",
        "for k in ks:\n",
        "  bkm = BisectingKMeans().setK(k).setSeed(1)\n",
        "  model_bkm = bkm.fit(transformed)\n",
        "  cost = model_bkm.computeCost(transformed)\n",
        "  costs.append(cost)"
      ],
      "execution_count": 0,
      "outputs": []
    },
    {
      "cell_type": "code",
      "metadata": {
        "id": "24O-D-0K8a62",
        "colab_type": "code",
        "colab": {}
      },
      "source": [
        "plt.plot(range(2,len(ks)+2),costs)\n",
        "plt.xlabel('k') \n",
        "plt.ylabel('cost')\n",
        "plt.savefig('cost_bisecting.png')"
      ],
      "execution_count": 0,
      "outputs": []
    },
    {
      "cell_type": "markdown",
      "metadata": {
        "id": "lyXZbPnVNaln",
        "colab_type": "text"
      },
      "source": [
        "The sharpest decrease ends when k  = 4 but untill k=8 it keeps on decreasing significantly, therefore k = 8 is the optimal value."
      ]
    },
    {
      "cell_type": "code",
      "metadata": {
        "id": "SAnbqeiiu3IF",
        "colab_type": "code",
        "colab": {}
      },
      "source": [
        "bkm = BisectingKMeans().setK(8).setSeed(1)\n",
        "model_bkm = bkm.fit(transformed)\n",
        "results = model_bkm.transform(transformed)  \n",
        "centers = model_bkm.clusterCenters()\n",
        "pandasdf = results.toPandas()\n",
        "evaluator = ClusteringEvaluator()\n",
        "silhouette = evaluator.evaluate(results)\n",
        "print(\"Silhouette with squared euclidean distance = \" + str(silhouette))"
      ],
      "execution_count": 0,
      "outputs": []
    },
    {
      "cell_type": "code",
      "metadata": {
        "id": "JRd8nN02vD85",
        "colab_type": "code",
        "colab": {}
      },
      "source": [
        "pc1 = []\n",
        "pc2 = []\n",
        "for idx, row in pandasdf.iterrows():\n",
        "    pc1.append(row[0][0])\n",
        "    pc2.append(row[0][1])\n",
        "pandasdf['pca1'] = pc1 \n",
        "pandasdf['pca2'] = pc2\n",
        "pandasdf['class']=pdf['class']\n",
        "dfcenters = pd.DataFrame(centers, columns = [\"x\",\"y\"])"
      ],
      "execution_count": 0,
      "outputs": []
    },
    {
      "cell_type": "code",
      "metadata": {
        "id": "HF_JkWdvvLk0",
        "colab_type": "code",
        "colab": {}
      },
      "source": [
        "plt.scatter(pc1,pc2, c=pandasdf[\"prediction\"])\n",
        "plt.scatter(dfcenters[\"x\"].values,dfcenters[\"y\"].values, marker=\"x\", color = \"r\")\n",
        "plt.savefig('bisecting_clusters.png')\n",
        "plt.show()"
      ],
      "execution_count": 0,
      "outputs": []
    },
    {
      "cell_type": "code",
      "metadata": {
        "id": "rbSqlYQnz68S",
        "colab_type": "code",
        "colab": {}
      },
      "source": [
        "plt.scatter(pc1,pc2, c=pandasdf[\"class\"])\n",
        "plt.scatter(dfcenters[\"x\"].values,dfcenters[\"y\"].values, marker=\"x\", color = \"r\")\n",
        "plt.savefig('bisecting_classes.png')\n",
        "plt.show()"
      ],
      "execution_count": 0,
      "outputs": []
    },
    {
      "cell_type": "markdown",
      "metadata": {
        "id": "BK_pNd0JNWMT",
        "colab_type": "text"
      },
      "source": [
        "It is possible to recognize three classes that emerge in the upper left and right and in the low centre."
      ]
    }
  ]
}